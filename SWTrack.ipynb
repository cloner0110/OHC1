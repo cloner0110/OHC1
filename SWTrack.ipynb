{
 "cells": [
  {
   "cell_type": "markdown",
   "id": "0",
   "metadata": {},
   "source": [
    "# Prolog"
   ]
  },
  {
   "cell_type": "code",
   "execution_count": null,
   "id": "1",
   "metadata": {},
   "outputs": [],
   "source": [
    "import pandas as pd\n",
    "import seaborn as sb\n",
    "import os\n",
    "import ofwhpcparse as op\n",
    "import datetime\n",
    "import traceback\n",
    "from scipy.optimize import curve_fit\n",
    "import pathlib"
   ]
  },
  {
   "cell_type": "code",
   "execution_count": null,
   "id": "2",
   "metadata": {},
   "outputs": [],
   "source": [
    "dfs = op.read_submissions()\n",
    "dfs = op.derive_metrics(dfs)"
   ]
  },
  {
   "cell_type": "code",
   "execution_count": null,
   "id": "3",
   "metadata": {},
   "outputs": [],
   "source": [
    "# Serialize forces we try to read in all even if most of them fail\n",
    "_,_,fs = next(os.walk(\"submissions\"))\n",
    "\n",
    "dfsf = pd.DataFrame()\n",
    "for fn in fs:\n",
    "    if not fn.endswith(\"xlsm\"):\n",
    "        continue\n",
    "    try:\n",
    "        df_meta = pd.read_excel(\"submissions/\" + fn, sheet_name=\"META Data\")\n",
    "        df_forces = pd.read_excel(\"submissions/\" + fn, sheet_name=\"Aero Forces\")\n",
    "        dft=op.serialize_forces(df_forces, df_meta, fn)\n",
    "    except Exception as e:\n",
    "        print(f\"failed force serialization {fn}\")\n",
    "        print(traceback.format_exc())\n",
    "    dfsf = pd.concat([dfsf,dft])"
   ]
  },
  {
   "cell_type": "code",
   "execution_count": null,
   "id": "4",
   "metadata": {},
   "outputs": [],
   "source": [
    "df_hardware = dfs[dfs[\"Track\"] == \"Hardware Track\"]\n",
    "df_software = dfs[dfs[\"Track\"] == \"Software Track\"]\n",
    "\n",
    "fig_folder = \"figures_swtrack\"\n",
    "pathlib.Path(fig_folder).mkdir(parents=True, exist_ok=True)\n",
    "doSaveFig = False  # Set to True to save figures"
   ]
  },
  {
   "cell_type": "code",
   "execution_count": null,
   "id": "5",
   "metadata": {},
   "outputs": [],
   "source": [
    "# olympic swimming pool 50m*25m*2m 2.5e6 l water\n",
    "V = 2.5e6 #l water\n",
    "cp = 4.184  # kJ / kg⋅K\n",
    "dT = 80 #K,\n",
    "rho = 1 #kg/l\n",
    "# 1kJ = 0.0002778 kWh\n",
    "e = V * rho * dT * cp * 0.0002778"
   ]
  },
  {
   "cell_type": "code",
   "execution_count": null,
   "id": "6",
   "metadata": {},
   "outputs": [],
   "source": [
    "dfs.columns"
   ]
  },
  {
   "cell_type": "code",
   "execution_count": null,
   "id": "7",
   "metadata": {},
   "outputs": [],
   "source": [
    "df_software[\"Type\"] = \"Other\"\n",
    "df_software.loc[df_software[\"Contributor Affiliation\"] == \"Cineca\", \"Type\"] = \"Full GPU port\"\n",
    "df_software.loc[df_software[\"Contributor Affiliation\"] == \"Engys\", \"Type\"] = \"Full GPU port\"\n",
    "df_software.loc[df_software[\"Contributor Affiliation\"] == \"KIT/TUM\", \"Type\"] = \"GPU Plugin\"\n",
    "df_software_fine = df_software[df_software[\"Mesh\"]==\"fine\"]\n",
    "df_hardware_fine = df_hardware[df_hardware[\"Mesh\"]==\"fine\"]\n",
    "\n",
    "\n",
    "df_software.columns"
   ]
  },
  {
   "cell_type": "markdown",
   "id": "8",
   "metadata": {},
   "source": [
    "# General"
   ]
  },
  {
   "cell_type": "code",
   "execution_count": null,
   "id": "9",
   "metadata": {},
   "outputs": [],
   "source": [
    "# some statistics\n",
    "print(f\"\"\"\n",
    "total number of valid entries: {len(df_software)} / {len(dfs)},\n",
    "Contributor ID: {set(df_software[\"Contributor ID\"])}  ,\n",
    "software track entries {len(df_software)} ,\n",
    "processesed {len(set(dfs['CPU Model']))} different CPU vendors {set(dfs['CPU Model'])},\n",
    "processesed {len(set(dfs['GPU Model']))} different GPUmodels {set(dfs['GPU Model'])},\n",
    "-------------------\n",
    "break-down by CPU model: {dfs[\"CPU Model\"].value_counts()}\n",
    "-------------------\n",
    "-------------------\n",
    "break-down by GPUmodel: {dfs[\"GPU Model\"].value_counts()}\n",
    "-------------------\n",
    "max nodes {max(dfs['Number of Nodes'])},\n",
    "max cores {max(dfs['Number of CPU Cores'])},\n",
    "min wall clc {min(dfs['Run Wall-Clock Time [s]'])},\n",
    "min time step software {min(df_software['Time per Iteration [s]'])},\n",
    "min time step hardware {min(df_hardware['Time per Iteration [s]'])},\n",
    "min energy software {min(df_software['Energy per Iteration [J]'])} [Ws],\n",
    "min energy hardware {min(df_hardware['Energy per Iteration [J]'])} [Ws],\n",
    "max FVOPS {max(df_software['FVOPS'])/1e6} [MFVOPS],\n",
    "max FVOPS {max(df_hardware['FVOPS'])/1e6} [MFVOPS],\n",
    "max energy {max(dfs['Energy-To-Solution [kWh]'])} [kWh],\n",
    "total reported energy consumption {sum(dfs['Energy-To-Solution [kWh]'])} kWh, bringing {sum(dfs['Energy-To-Solution [kWh]'])/e} olympic swimming pools worth of water to a boil\n",
    "decomposition methods {set(dfs[\"Decomposition Method\"])},\n",
    "renumbering methods {set(dfs[\"Renumbering Method\"])}\n",
    "network {set(dfs[\"Network Interconnect\"])},\n",
    "\"\"\")"
   ]
  },
  {
   "cell_type": "code",
   "execution_count": null,
   "id": "10",
   "metadata": {},
   "outputs": [],
   "source": [
    "ax = sb.scatterplot(df_software,x=\"Number of CPU Cores\", y=\"Run Wall-Clock Time [s]\", hue=\"Contributor Affiliation\", style=\"Mesh\")\n",
    "ax.set(xscale=\"log\", yscale=\"log\", title=\" Software Track\")\n",
    "sb.move_legend(ax, \"upper left\", bbox_to_anchor=(1, 1))\n",
    "fig = ax.get_figure()\n",
    "op.save_fig(fig, fig_folder, \"wct_cores_mesh\", doSaveFig)"
   ]
  },
  {
   "cell_type": "markdown",
   "id": "11",
   "metadata": {},
   "source": [
    "# FVOPS"
   ]
  },
  {
   "cell_type": "code",
   "execution_count": null,
   "id": "12",
   "metadata": {},
   "outputs": [],
   "source": [
    "ax = sb.scatterplot(df_software,x=\"Number of Nodes\", y=\"FVOPS\", hue=\"Type\", style=\"GPU Model\")\n",
    "ax.set(xscale=\"log\", yscale=\"log\", title=\" Software Track\")\n",
    "sb.move_legend(ax, \"upper left\", bbox_to_anchor=(1, 1))\n",
    "fig = ax.get_figure()\n",
    "op.save_fig(fig, fig_folder, \"FVOPS_Nodes_GPUOptimizationType\", doSaveFig)"
   ]
  },
  {
   "cell_type": "code",
   "execution_count": null,
   "id": "13",
   "metadata": {},
   "outputs": [],
   "source": [
    "ax = sb.scatterplot(df_software,x=\"Energy per Iteration [J]\", y=\"FVOPS\", hue=\"Software Optimization Category\")\n",
    "ax.set(xscale=\"log\", yscale=\"log\", title=\" Software Track\")\n",
    "sb.move_legend(ax, \"upper left\", bbox_to_anchor=(1, 1))\n",
    "fig = ax.get_figure()\n",
    "op.save_fig(fig, fig_folder, \"FVOPS_Energy_OptimizationCat\", doSaveFig)"
   ]
  },
  {
   "cell_type": "code",
   "execution_count": null,
   "id": "14",
   "metadata": {},
   "outputs": [],
   "source": [
    "ax = sb.scatterplot(df_software,x=\"Energy per Iteration [J]\", y=\"FVOPS\", hue=\"File Name\")\n",
    "ax.set(xscale=\"log\", yscale=\"log\", title=\" Software Track\")\n",
    "sb.move_legend(ax, \"upper left\", bbox_to_anchor=(1, 1))\n",
    "fig = ax.get_figure()\n",
    "op.save_fig(fig, fig_folder, \"FVOPS_EnergyPerIteration_FileName\", doSaveFig)"
   ]
  },
  {
   "cell_type": "code",
   "execution_count": null,
   "id": "15",
   "metadata": {},
   "outputs": [],
   "source": [
    "ax = sb.scatterplot(df_hardware,x=\"Energy per Iteration [J]\", y=\"FVOPS\", color=\"gray\", marker=\"+\")\n",
    "ax = sb.scatterplot(df_software,x=\"Energy per Iteration [J]\", y=\"FVOPS\", hue=\"Software Optimization Category\")\n",
    "ax.set(xscale=\"log\", yscale=\"log\", title=\" Software Track\")\n",
    "sb.move_legend(ax, \"upper left\", bbox_to_anchor=(1, 1))\n",
    "fig = ax.get_figure()\n",
    "op.save_fig(fig, fig_folder, \"FVOPS_EnergyPerIteration_withHWTrack\", doSaveFig)"
   ]
  },
  {
   "cell_type": "code",
   "execution_count": null,
   "id": "16",
   "metadata": {},
   "outputs": [],
   "source": [
    "ax = sb.scatterplot(df_hardware_fine,x=\"Energy per Iteration [J]\", y=\"FVOPS\", color=\"gray\", marker=\"+\")\n",
    "ax = sb.scatterplot(df_software_fine,x=\"Energy per Iteration [J]\", y=\"FVOPS\", hue=\"Software Optimization Category\")\n",
    "ax.set(xscale=\"log\", yscale=\"log\", title=\" Software Track\")\n",
    "sb.move_legend(ax, \"upper left\", bbox_to_anchor=(1, 1))\n",
    "fig = ax.get_figure()\n",
    "op.save_fig(fig, fig_folder, \"FVOPSEnergyPerIterationFine\", doSaveFig)"
   ]
  },
  {
   "cell_type": "markdown",
   "id": "17",
   "metadata": {},
   "source": [
    "# Scaling"
   ]
  },
  {
   "cell_type": "code",
   "execution_count": null,
   "id": "18",
   "metadata": {},
   "outputs": [],
   "source": [
    "ax = sb.scatterplot(df_software,x=\"Number of CPU Cores\", y=\"Run Wall-Clock Time [s]\", hue=\"GPU Model\", style=\"Mesh\")\n",
    "ax.set(xscale=\"log\", yscale=\"log\", title=\" Software Track\")\n",
    "sb.move_legend(ax, \"upper left\", bbox_to_anchor=(1, 1))\n",
    "fig = ax.get_figure()\n",
    "op.save_fig(fig, fig_folder, \"wct_cores_GPUModel\", doSaveFig)"
   ]
  },
  {
   "cell_type": "code",
   "execution_count": null,
   "id": "19",
   "metadata": {},
   "outputs": [],
   "source": [
    "df_software_filt = df_software\n",
    "ax = sb.scatterplot(df_software_filt,x=\"Number of CPU Cores\", y=\"Energy per Iteration [J]\", hue=\"GPU Model\", style=\"Mesh\")\n",
    "ax.set(xscale=\"log\", yscale=\"log\", title=\"Software Track\")\n",
    "sb.move_legend(ax, \"upper left\", bbox_to_anchor=(1, 1))\n",
    "fig = ax.get_figure()\n",
    "op.save_fig(fig, fig_folder, \"EnergyPerIteration_cores_GPUModel\", doSaveFig)"
   ]
  },
  {
   "cell_type": "code",
   "execution_count": null,
   "id": "20",
   "metadata": {},
   "outputs": [],
   "source": [
    "ax = sb.scatterplot(df_software,x=\"Number of CPU Cores\", y=\"Time per Iteration [s]\", hue=\"GPU Model\", style=\"Mesh\")\n",
    "ax.set(xscale=\"log\", yscale=\"log\", title=\" Software Track\")\n",
    "sb.move_legend(ax, \"upper left\", bbox_to_anchor=(1, 1))\n",
    "fig = ax.get_figure()\n",
    "op.save_fig(fig, fig_folder, \"TimePerIteration_cores_GPUModel\", doSaveFig)"
   ]
  },
  {
   "cell_type": "markdown",
   "id": "21",
   "metadata": {},
   "source": [
    "# Aerodynamic Coefficients"
   ]
  },
  {
   "cell_type": "code",
   "execution_count": null,
   "id": "22",
   "metadata": {},
   "outputs": [],
   "source": [
    "dsfs_clean = dfsf.dropna()\n",
    "dsfs_clean = dsfs_clean[dsfs_clean[\"Contributor Affiliation\"] != \"CFD FEA SERVICE SRL\"]\n",
    "dsfs_clean[\"Cd mean\"] = \"Cd\"\n",
    "dsfs_clean[\"Cl mean\"] = \"Cl\"\n",
    "dsfs_clean[\"Cs mean\"] = \"Cs\"\n",
    "\n",
    "sb.boxplot(\n",
    "    dsfs_clean, x=\"cd_mean\", y=\"Cd mean\",\n",
    "    whis=[0, 100], width=.6, palette=\"vlag\"\n",
    ")\n",
    "sb.boxplot(\n",
    "    dsfs_clean, x=\"cl_mean\", y=\"Cl mean\",\n",
    "    whis=[0, 100], width=.6, palette=\"vlag\"\n",
    ")\n",
    "sb.boxplot(\n",
    "    dsfs_clean, x=\"cs_mean\", y=\"Cs mean\",\n",
    "    whis=[0, 100], width=.6, palette=\"vlag\"\n",
    ")\n",
    "sb.stripplot(dsfs_clean, x=\"cd_mean\", y=\"Cd mean\", size=0.5, color=\".3\")\n",
    "sb.stripplot(dsfs_clean, x=\"cl_mean\", y=\"Cl mean\", size=0.5, color=\".3\")\n",
    "ax = sb.stripplot(dsfs_clean, x=\"cs_mean\", y=\"Cs mean\", size=0.5, color=\".3\")\n",
    "\n",
    "ax.set(xlabel='Mean value', ylabel='')\n",
    "\n",
    "fig = ax.get_figure()"
   ]
  },
  {
   "cell_type": "code",
   "execution_count": null,
   "id": "23",
   "metadata": {},
   "outputs": [],
   "source": [
    "\n",
    "sb.boxplot(\n",
    "    dsfs_clean, x=\"cd_mean\", y=\"Cd mean\",\n",
    "    whis=[0, 100], width=.6, palette=\"vlag\"\n",
    ")\n",
    "ax = sb.stripplot(dsfs_clean, x=\"cd_mean\", y=\"Cd mean\", size=0.5, color=\".3\")\n",
    "\n",
    "ax.set_xlabel('Mean value', fontsize=15)\n",
    "ax.set_ylabel('')\n",
    "ax.set_yticklabels([\"Cd\"], size = 15)\n",
    "ax.set_xticklabels(ax.get_xticks(), size = 15)\n",
    "\n",
    "fig = ax.get_figure()\n",
    "fig.set_size_inches(6, 3)"
   ]
  },
  {
   "cell_type": "code",
   "execution_count": null,
   "id": "24",
   "metadata": {},
   "outputs": [],
   "source": [
    "sb.boxplot(\n",
    "    dsfs_clean, x=\"cl_mean\", y=\"Cl mean\",\n",
    "    whis=[0, 100], width=.6, palette=\"vlag\",\n",
    ")\n",
    "ax = sb.stripplot(dsfs_clean, x=\"cl_mean\", y=\"Cl mean\", size=0.5, color=\".3\")\n",
    "\n",
    "ax.set_xlabel('Mean value', fontsize=15)\n",
    "ax.set_ylabel('')\n",
    "ax.set_yticklabels([\"Cl\"], size = 15)\n",
    "ax.set_xticklabels(ax.get_xticks(), size = 15)\n",
    "ax.set_xticks(ax.get_xticks()[::2]);            # show every 2th tick\n",
    "\n",
    "fig = ax.get_figure()\n",
    "fig.set_size_inches(6, 3)"
   ]
  },
  {
   "cell_type": "code",
   "execution_count": null,
   "id": "25",
   "metadata": {},
   "outputs": [],
   "source": [
    "sb.boxplot(\n",
    "    dsfs_clean, x=\"cs_mean\", y=\"Cs mean\",\n",
    "    whis=[0, 100], width=.6, palette=\"vlag\"\n",
    ")\n",
    "ax = sb.stripplot(dsfs_clean, x=\"cs_mean\", y=\"Cs mean\", size=0.5, color=\".3\")\n",
    "\n",
    "ax.set_xlabel('Mean value', fontsize=15)\n",
    "ax.set_ylabel('')\n",
    "ax.set_yticklabels([\"Cs\"], size = 15)\n",
    "ax.set_xticklabels(ax.get_xticks(), size = 15)\n",
    "\n",
    "fig = ax.get_figure()\n",
    "fig.set_size_inches(6, 3)"
   ]
  }
 ],
 "metadata": {
  "kernelspec": {
   "display_name": "py3.12",
   "language": "python",
   "name": "python3"
  },
  "language_info": {
   "codemirror_mode": {
    "name": "ipython",
    "version": 3
   },
   "file_extension": ".py",
   "mimetype": "text/x-python",
   "name": "python",
   "nbconvert_exporter": "python",
   "pygments_lexer": "ipython3",
   "version": "3.12.3"
  }
 },
 "nbformat": 4,
 "nbformat_minor": 5
}
