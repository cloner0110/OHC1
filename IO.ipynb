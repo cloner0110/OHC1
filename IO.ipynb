{
 "cells": [
  {
   "cell_type": "markdown",
   "metadata": {},
   "source": [
    "# Prolog"
   ]
  },
  {
   "cell_type": "code",
   "execution_count": null,
   "metadata": {},
   "outputs": [],
   "source": [
    "import pandas as pd\n",
    "import seaborn as sb\n",
    "import ofwhpcparse as op\n",
    "from matplotlib.ticker import FormatStrFormatter"
   ]
  },
  {
   "cell_type": "markdown",
   "metadata": {},
   "source": [
    "## Read and Derive Auxiliary Data"
   ]
  },
  {
   "cell_type": "code",
   "execution_count": null,
   "metadata": {},
   "outputs": [],
   "source": [
    "dfs = op.read_submissions()\n",
    "dfs = op.derive_metrics(dfs)\n",
    "\n",
    "df_pre = dfs\n",
    "# convert non-numeric values to NaNs\n",
    "df_pre[\"Pre-Processing Wall-Clock Time [s]\"] = pd.to_numeric(\n",
    "    df_pre[\"Pre-Processing Wall-Clock Time [s]\"], errors=\"coerce\"\n",
    "    )\n",
    "# ditch NaNs and zero values\n",
    "df_pre = df_pre[~df_pre[\"Pre-Processing Wall-Clock Time [s]\"].isnull()]\n",
    "df_pre = df_pre[df_pre[\"Pre-Processing Wall-Clock Time [s]\"] != 0]\n",
    "df_pre[\"Pre-Processing Wall-Clock Time [h]\"] = df_pre[\"Pre-Processing Wall-Clock Time [s]\"] / 3600\n",
    "\n",
    "fig_folder = \"figures_coherentIO\"\n",
    "doSaveFig = False"
   ]
  },
  {
   "cell_type": "markdown",
   "metadata": {},
   "source": [
    "# Pre-Processing from All Submissions"
   ]
  },
  {
   "cell_type": "code",
   "execution_count": null,
   "metadata": {},
   "outputs": [],
   "source": [
    "df = df_pre\n",
    "ax = sb.scatterplot(df.sort_values(\"Mesh\"),x=\"Number of CPU Cores\", y=\"Pre-Processing Wall-Clock Time [h]\", hue=\"Mesh\", style=\"Track\")\n",
    "ax.set(xscale=\"log\", yscale=\"log\", title=\"Pre-Processing\")\n",
    "ax.set_yscale(\"log\", base=2)\n",
    "ax.yaxis.set_major_formatter(FormatStrFormatter('%.2g'))\n",
    "sb.move_legend(ax, \"upper left\")#, bbox_to_anchor=(1, 1))\n",
    "fig = ax.get_figure()\n",
    "op.save_fig(fig, fig_folder, \"wct_cores_preprocessing\", doSaveFig)"
   ]
  },
  {
   "cell_type": "code",
   "execution_count": null,
   "metadata": {},
   "outputs": [],
   "source": [
    "df = df_pre\n",
    "df[\"Pre-Processing-To-Run Time Ratio\"] = df[\"Pre-Processing Wall-Clock Time [h]\"] / df[\"Time-To-Solution [h]\"]\n",
    "ax = sb.scatterplot(df.sort_values(\"Mesh\"),x=\"Number of CPU Cores\", y=\"Pre-Processing-To-Run Time Ratio\", hue=\"Mesh\", style=\"Track\")\n",
    "ax.set(xscale=\"log\", title=\"Pre-Processing\")\n",
    "ax.set_yscale(\"log\", base=2)\n",
    "ax.yaxis.set_major_formatter(FormatStrFormatter('%.3g'))\n",
    "sb.move_legend(ax, \"upper left\")\n",
    "fig = ax.get_figure()\n",
    "op.save_fig(fig, fig_folder, \"run-to-preprocessing-time-ratio_cores\", doSaveFig)"
   ]
  },
  {
   "cell_type": "markdown",
   "metadata": {},
   "source": [
    "# Pre-Processing Collated vs. Coherent I/O Format"
   ]
  },
  {
   "cell_type": "code",
   "execution_count": null,
   "metadata": {},
   "outputs": [],
   "source": [
    "# Data submitted by Wikki GmbH includes a comparison of collated and coherent\n",
    "# formats on the same hardware\n",
    "df = df_pre[df_pre[\"Contributor ID\"] == \"01\"]\n",
    "df = df[df[\"Mesh\"] == \"coarse\"]\n",
    "df = df[df[\"CPU Family\"] == \"AMD\"]\n",
    "df.loc[df[\"Track\"] == \"Software Track\", \"Track\"] = \"Coherent\"\n",
    "df.loc[df[\"Track\"] == \"Hardware Track\", \"Track\"] = \"Collated\"\n",
    "df[\"Pre-Processing Wall-Clock Time [minutes]\"] = df[\"Pre-Processing Wall-Clock Time [h]\"] * 60\n",
    "ax = sb.barplot(df.sort_values(\"Pre-Processing Wall-Clock Time [minutes]\"),x=\"Number of CPU Cores\", y=\"Pre-Processing Wall-Clock Time [minutes]\", hue=\"Track\")\n",
    "ax.set(title=\"Coarse Mesh\")\n",
    "ax.legend(title=\"I/O\")\n",
    "ax.yaxis.set_major_formatter(FormatStrFormatter('%.3g'))\n",
    "sb.move_legend(ax, \"upper left\")\n",
    "fig = ax.get_figure()\n",
    "op.save_fig(fig, fig_folder, \"WCT_cores_collated-coherent_coarse\", doSaveFig)"
   ]
  },
  {
   "cell_type": "code",
   "execution_count": null,
   "metadata": {},
   "outputs": [],
   "source": [
    "df = df_pre[df_pre[\"Contributor ID\"] == \"01\"]\n",
    "df = df[df[\"Mesh\"] == \"fine\"]\n",
    "df = df[df[\"CPU Family\"] == \"AMD\"]\n",
    "df = df[df[\"Number of CPU Cores\"] > 256]\n",
    "df.loc[df[\"Track\"] == \"Software Track\", \"Track\"] = \"Coherent\"\n",
    "df.loc[df[\"Track\"] == \"Hardware Track\", \"Track\"] = \"Collated\"\n",
    "ax = sb.barplot(df.sort_values(\"Pre-Processing Wall-Clock Time [h]\"),x=\"Number of CPU Cores\", y=\"Pre-Processing Wall-Clock Time [h]\", hue=\"Track\")\n",
    "ax.set(title=\"Fine Mesh\")\n",
    "ax.legend(title=\"I/O\")\n",
    "ax.yaxis.set_major_formatter(FormatStrFormatter('%.3g'))\n",
    "sb.move_legend(ax, \"upper left\")\n",
    "fig = ax.get_figure()\n",
    "op.save_fig(fig, fig_folder, \"WCT_cores_collated-coherent_fine\", doSaveFig)"
   ]
  },
  {
   "cell_type": "markdown",
   "metadata": {},
   "source": [
    "# Solver Run"
   ]
  },
  {
   "cell_type": "code",
   "execution_count": null,
   "metadata": {},
   "outputs": [],
   "source": [
    "df = df_pre[df_pre[\"Contributor ID\"] == \"01\"]\n",
    "df = df[df[\"Mesh\"] == \"fine\"]\n",
    "df = df[df[\"CPU Family\"] == \"AMD\"]\n",
    "df = df[df[\"Number of CPU Cores\"] > 256]\n",
    "df.loc[df[\"Track\"] == \"Software Track\", \"Track\"] = \"Writing fields every 250 iterations\"\n",
    "df.loc[df[\"Track\"] == \"Hardware Track\", \"Track\"] = \"No fields writing\"\n",
    "ax = sb.barplot(df.sort_values(\"Pre-Processing Wall-Clock Time [h]\"),x=\"Number of CPU Cores\", y=\"Time-To-Solution [h]\", hue=\"Track\")\n",
    "ax.set(title=\"Solver I/O, Fine Mesh, Coherent Format\")\n",
    "# ax.set_yscale(\"log\", base=2)\n",
    "ax.legend(title=\"Write option\")\n",
    "ax.yaxis.set_major_formatter(FormatStrFormatter('%.3g'))\n",
    "sb.move_legend(ax, \"upper right\")\n",
    "fig = ax.get_figure()\n",
    "op.save_fig(fig, fig_folder, \"WCT_cores_run_collated-coherent_fine\", doSaveFig)"
   ]
  }
 ],
 "metadata": {
  "kernelspec": {
   "display_name": "py3.12",
   "language": "python",
   "name": "python3"
  },
  "language_info": {
   "codemirror_mode": {
    "name": "ipython",
    "version": 3
   },
   "file_extension": ".py",
   "mimetype": "text/x-python",
   "name": "python",
   "nbconvert_exporter": "python",
   "pygments_lexer": "ipython3",
   "version": "3.12.3"
  }
 },
 "nbformat": 4,
 "nbformat_minor": 2
}
