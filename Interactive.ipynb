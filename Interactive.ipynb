{
 "cells": [
  {
   "cell_type": "markdown",
   "id": "0",
   "metadata": {},
   "source": [
    "# Prolog"
   ]
  },
  {
   "cell_type": "code",
   "execution_count": 13,
   "id": "1",
   "metadata": {},
   "outputs": [],
   "source": [
    "import pandas as pd\n",
    "import seaborn as sb\n",
    "import mplcursors\n",
    "import matplotlib.pyplot as plt\n",
    "from ipywidgets import Dropdown, interact, ToggleButton\n",
    "\n",
    "## The interactive matplotlib widget uses the ipyml (https://matplotlib.org/ipympl/) backend by default.\n",
    "## The backend may be installed via:\n",
    "## `pip install ipyml`"
   ]
  },
  {
   "cell_type": "code",
   "execution_count": 14,
   "id": "2",
   "metadata": {},
   "outputs": [
    {
     "data": {
      "text/plain": [
       "Index(['level_0', 'index', 'File Name', 'Run Wall-Clock Time [s]',\n",
       "       'Number of CPU Cores', 'Number of GPU Devices', 'Number of Nodes',\n",
       "       'CPU Family', 'CPU Model', 'CPU Submodel', 'CPU Generation',\n",
       "       'GPU Model', 'Mesh', 'System TDP [W]', 'Number of Cells',\n",
       "       'Time per Iteration [s]', 'Track', 'OpenFOAM Flavor',\n",
       "       'Run Consumed Energy [kWh]', 'Decomposition Method', 'Last-Level Cache',\n",
       "       'Network Interconnect', 'Renumbering Method', 'Contributor ID',\n",
       "       'Is Partial', 'Is Energy Reported', 'Software Optimization Category',\n",
       "       'Total Core Time [s]', 'Total Node Time [s]',\n",
       "       'Total Node Time [s]/Run Consumed Energy [kWh]',\n",
       "       'Run Wall-Clock Time [s]/Run Consumed Energy [kWh]',\n",
       "       'Energy per Iteration [J]', 'Energy-To-Solution [kWh]', 'FVOPS',\n",
       "       'FVOPS per Energy', 'FVOPS per Node'],\n",
       "      dtype='object')"
      ]
     },
     "execution_count": 14,
     "metadata": {},
     "output_type": "execute_result"
    }
   ],
   "source": [
    "# Load the data from a JSON file produced from the submissions\n",
    "# This load is significantly faster than parsing the submission sheets\n",
    "df = pd.read_json(\"data.json\")\n",
    "\n",
    "# all available data\n",
    "df.columns"
   ]
  },
  {
   "cell_type": "code",
   "execution_count": 15,
   "id": "3",
   "metadata": {},
   "outputs": [],
   "source": [
    "# an example how to filter / select a specific subset of the data\n",
    "# here only keep fine mesh\n",
    "# df = df[df[\"Mesh\"] == \"fine\"]"
   ]
  },
  {
   "cell_type": "markdown",
   "id": "4",
   "metadata": {},
   "source": [
    "# Plot Examples"
   ]
  },
  {
   "cell_type": "code",
   "execution_count": 16,
   "id": "5",
   "metadata": {},
   "outputs": [],
   "source": [
    "ax = sb.scatterplot(df,x=\"Number of CPU Cores\", y=\"Run Wall-Clock Time [s]\", hue=\"CPU Model\", style=\"Mesh\")\n",
    "ax.set(xscale=\"log\", yscale=\"log\", title=\" Hardware Track\")\n",
    "sb.move_legend(ax, \"upper left\", bbox_to_anchor=(1, 1))\n",
    "fig = ax.get_figure()"
   ]
  },
  {
   "cell_type": "code",
   "execution_count": 17,
   "id": "6",
   "metadata": {},
   "outputs": [
    {
     "name": "stderr",
     "output_type": "stream",
     "text": [
      "C:\\Users\\m00639030\\AppData\\Local\\Packages\\PythonSoftwareFoundation.Python.3.13_qbz5n2kfra8p0\\LocalCache\\local-packages\\Python313\\site-packages\\seaborn\\categorical.py:383: UserWarning: Attempt to set non-positive ylim on a log-scaled axis will be ignored.\n",
      "  ax.set_ylim(n - .5, -.5, auto=None)\n",
      "C:\\Users\\m00639030\\AppData\\Local\\Packages\\PythonSoftwareFoundation.Python.3.13_qbz5n2kfra8p0\\LocalCache\\local-packages\\Python313\\site-packages\\seaborn\\categorical.py:383: UserWarning: Attempt to set non-positive ylim on a log-scaled axis will be ignored.\n",
      "  ax.set_ylim(n - .5, -.5, auto=None)\n"
     ]
    },
    {
     "data": {
      "text/plain": [
       "<Axes: title={'center': ' Hardware Track'}, xlabel='Number of CPU Cores', ylabel='System TDP [W]'>"
      ]
     },
     "execution_count": 17,
     "metadata": {},
     "output_type": "execute_result"
    }
   ],
   "source": [
    "sb.boxplot(\n",
    "    df, x=\"Energy per Iteration [J]\", y=\"CPU Model\", hue=\"CPU Model\",\n",
    "    whis=[0, 100], width=.6, palette=\"vlag\"\n",
    ")\n",
    "sb.stripplot(df, x=\"Energy per Iteration [J]\", y=\"CPU Model\", size=4, color=\".3\")"
   ]
  },
  {
   "cell_type": "markdown",
   "id": "7",
   "metadata": {},
   "source": [
    "# Interactive scatter with annotations"
   ]
  },
  {
   "cell_type": "code",
   "execution_count": 18,
   "id": "8",
   "metadata": {},
   "outputs": [],
   "source": [
    "%matplotlib ipympl\n",
    "# %matplotlib widget  # use this if ipympl is not available"
   ]
  },
  {
   "cell_type": "code",
   "execution_count": 19,
   "id": "9",
   "metadata": {},
   "outputs": [
    {
     "data": {
      "application/vnd.jupyter.widget-view+json": {
       "model_id": "3d11cf8112914be99c6d586a6659cf9e",
       "version_major": 2,
       "version_minor": 0
      },
      "text/plain": [
       "interactive(children=(Dropdown(description='X-Axis: ', index=4, options=('level_0', 'index', 'File Name', 'Run…"
      ]
     },
     "metadata": {},
     "output_type": "display_data"
    },
    {
     "data": {
      "text/plain": [
       "<function __main__.draw_scatter(x, y, color, logX, logY)>"
      ]
     },
     "execution_count": 19,
     "metadata": {},
     "output_type": "execute_result"
    }
   ],
   "source": [
    "def show_annotation(sel):\n",
    "    row = df.iloc[sel.index]  # selected row from the dataframe\n",
    "    sel.annotation.set_text(f\"\"\"\n",
    "CPU: {row['CPU Model']}-{row['CPU Submodel']}\n",
    "Last-Level Cache: {row['Last-Level Cache']}\n",
    "Mesh: {row['Mesh']}\n",
    "Track: {row['Track']}\n",
    "Software Optimization Category: {row['Software Optimization Category']}\n",
    "Time per Iteration [s]: {row['Time per Iteration [s]']} [s]\n",
    "Energy per Iteration: {row['Energy per Iteration [J]']} [J]\n",
    "Contributor ID: {row['Contributor ID']}\n",
    "\"\"\")\n",
    "    sel.annotation.get_bbox_patch().set(fc=\"lightsalmon\", alpha=0.9)\n",
    "\n",
    "def hide_annotation(sel):\n",
    "    sel.annotation.set_visible(False)\n",
    "\n",
    "\n",
    "def draw_scatter(x,y,color,logX,logY):\n",
    "    plt.clf()\n",
    "    g = sb.scatterplot(df,x=x, y=y, hue=color)\n",
    "    cursor = mplcursors.cursor([ax.collections[0] for ax in [g]], hover=True)\n",
    "    cursor.connect(\"add\", show_annotation)\n",
    "    cursor.connect(\"remove\", hide_annotation)\n",
    "    if logX:\n",
    "        g.set(xscale=\"log\")\n",
    "    if logY:\n",
    "        g.set(yscale=\"log\")\n",
    "    plt.show()\n",
    "\n",
    "dd1 = Dropdown(options=df.columns, value='Number of CPU Cores', description='X-Axis: ')\n",
    "dd2 = Dropdown(options=df.columns, value='Time per Iteration [s]', description='Y-Axis: ')\n",
    "dd3 = Dropdown(options=df.columns, value='Mesh', description='Color: ')\n",
    "logX = ToggleButton(value=True, description='Log x-scale')\n",
    "logY = ToggleButton(value=True, description='Log y-scale')\n",
    "\n",
    "interact(draw_scatter, x=dd1, y=dd2, color=dd3, logX=logX, logY=logY)"
   ]
  }
 ],
 "metadata": {
  "kernelspec": {
   "display_name": "Python 3",
   "language": "python",
   "name": "python3"
  },
  "language_info": {
   "codemirror_mode": {
    "name": "ipython",
    "version": 3
   },
   "file_extension": ".py",
   "mimetype": "text/x-python",
   "name": "python",
   "nbconvert_exporter": "python",
   "pygments_lexer": "ipython3",
   "version": "3.13.7"
  }
 },
 "nbformat": 4,
 "nbformat_minor": 5
}
