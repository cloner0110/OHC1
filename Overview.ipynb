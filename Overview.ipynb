{
 "cells": [
  {
   "cell_type": "markdown",
   "id": "0",
   "metadata": {},
   "source": [
    "# Prolog"
   ]
  },
  {
   "cell_type": "code",
   "execution_count": null,
   "id": "1",
   "metadata": {},
   "outputs": [],
   "source": [
    "import pandas as pd\n",
    "import seaborn as sb\n",
    "import os\n",
    "import ofwhpcparse as op\n",
    "import datetime\n",
    "import traceback\n",
    "from scipy.optimize import curve_fit\n",
    "import pathlib"
   ]
  },
  {
   "cell_type": "code",
   "execution_count": null,
   "id": "2",
   "metadata": {},
   "outputs": [],
   "source": [
    "dfs = op.read_submissions()\n",
    "dfs = op.derive_metrics(dfs)"
   ]
  },
  {
   "cell_type": "code",
   "execution_count": null,
   "id": "3",
   "metadata": {},
   "outputs": [],
   "source": [
    "df_hardware = dfs[dfs[\"Track\"] == \"Hardware Track\"]\n",
    "df_software = dfs[dfs[\"Track\"] == \"Software Track\"]\n",
    "\n",
    "fig_folder = \"figures_overview\"\n",
    "pathlib.Path(fig_folder).mkdir(parents=True, exist_ok=True)\n",
    "doSaveFig = False  # Set to True to save figures"
   ]
  },
  {
   "cell_type": "code",
   "execution_count": null,
   "id": "4",
   "metadata": {},
   "outputs": [],
   "source": [
    "# olympic swimming pool 50m*25m*2m 2.5e6 l water\n",
    "V = 2.5e6 #l water\n",
    "cp = 4.184  # kJ / kg⋅K\n",
    "dT = 80 #K,\n",
    "rho = 1 #kg/l\n",
    "# 1kJ = 0.0002778 kWh\n",
    "e = V * rho * dT * cp * 0.0002778"
   ]
  },
  {
   "cell_type": "code",
   "execution_count": null,
   "id": "5",
   "metadata": {},
   "outputs": [],
   "source": [
    "dfs.columns"
   ]
  },
  {
   "cell_type": "markdown",
   "id": "6",
   "metadata": {},
   "source": [
    "# Results"
   ]
  },
  {
   "cell_type": "code",
   "execution_count": null,
   "id": "7",
   "metadata": {},
   "outputs": [],
   "source": [
    "# some statistics\n",
    "print(f\"\"\"\n",
    "total number of valid entries: {len(dfs)},\n",
    "hardware track entries {len(df_hardware)},\n",
    "software track entries {len(df_software)} ,\n",
    "processesed {len(set(dfs['CPU Family']))} CPU families with {len(set(dfs['CPU Submodel']))} CPU Submodels,\n",
    "-------------------\n",
    "break-down by CPU Family: {df_hardware[\"CPU Family\"].value_counts()}\n",
    "-------------------\n",
    "max nodes {max(dfs['Number of Nodes'])},\n",
    "mmax cores {max(dfs['Number of CPU Cores'])},\n",
    "min wall clc {min(dfs['Run Wall-Clock Time [s]'])},\n",
    "min time step {min(dfs['Time per Iteration [s]'])},\n",
    "min energy {min(dfs['Energy-To-Solution [kWh]'])} [kWh],\n",
    "max energy {max(dfs['Energy-To-Solution [kWh]'])} [kWh],\n",
    "total reported energy consumption {sum(dfs['Energy-To-Solution [kWh]'])} kWh, bringing {sum(dfs['Energy-To-Solution [kWh]'])/e} olympic swimming pools worth of water to a boil\n",
    "decomposition methods {set(dfs[\"Decomposition Method\"])},\n",
    "renumbering methods {set(dfs[\"Renumbering Method\"])}\n",
    "network {set(dfs[\"Network Interconnect\"])},\n",
    "\"\"\")"
   ]
  },
  {
   "cell_type": "code",
   "execution_count": null,
   "id": "8",
   "metadata": {},
   "outputs": [],
   "source": [
    "ax = sb.scatterplot(dfs, x=\"Number of Nodes\", y=\"FVOPS\")#, hue=\"Track\")\n",
    "ax.set(xscale=\"log\", yscale=\"log\", title=\" Hardware + Software Track\")\n",
    "#sb.move_legend(ax, \"upper left\", bbox_to_anchor=(1, 1))\n",
    "fig = ax.get_figure()\n",
    "op.save_fig(fig, fig_folder, \"FVOPSAllsubs\", doSaveFig)"
   ]
  },
  {
   "cell_type": "code",
   "execution_count": null,
   "id": "9",
   "metadata": {},
   "outputs": [],
   "source": [
    "ax = sb.scatterplot(dfs, x=\"Number of Nodes\", y=\"FVOPS\", hue=\"Track\")\n",
    "ax.set(xscale=\"log\", yscale=\"log\", title=\" Hardware + Software Track\")\n",
    "sb.move_legend(ax, \"upper left\", bbox_to_anchor=(1, 1))\n",
    "fig = ax.get_figure()\n",
    "op.save_fig(fig, fig_folder, \"FVOPSAllsubsByTrack\", doSaveFig)"
   ]
  },
  {
   "cell_type": "code",
   "execution_count": null,
   "id": "10",
   "metadata": {},
   "outputs": [],
   "source": [
    "ax = sb.scatterplot(dfs, x=\"Number of Nodes\", y=\"FVOPS\", hue=\"Software Optimization Category\", style=\"Track\")\n",
    "ax.set(xscale=\"log\", yscale=\"log\", title=\" Hardware + Software Track\")\n",
    "sb.move_legend(ax, \"upper left\", bbox_to_anchor=(1, 1))\n",
    "fig = ax.get_figure()\n",
    "op.save_fig(fig, fig_folder, \"FVOPSAllsubsByType\", doSaveFig)"
   ]
  },
  {
   "cell_type": "code",
   "execution_count": null,
   "id": "11",
   "metadata": {},
   "outputs": [],
   "source": [
    "ax = sb.scatterplot(dfs, x=\"Number of Nodes\", y=\"Energy per Iteration [J]\", hue=\"Track\")\n",
    "ax.set(xscale=\"log\", yscale=\"log\", title=\" Hardware + Software Track\")\n",
    "sb.move_legend(ax, \"upper left\", bbox_to_anchor=(1, 1))\n",
    "fig = ax.get_figure()\n",
    "op.save_fig(fig, fig_folder, \"FVOPSAllsubsEnergyPerIteration\", doSaveFig)"
   ]
  }
 ],
 "metadata": {
  "kernelspec": {
   "display_name": "py3.12",
   "language": "python",
   "name": "python3"
  },
  "language_info": {
   "codemirror_mode": {
    "name": "ipython",
    "version": 3
   },
   "file_extension": ".py",
   "mimetype": "text/x-python",
   "name": "python",
   "nbconvert_exporter": "python",
   "pygments_lexer": "ipython3",
   "version": "3.12.3"
  }
 },
 "nbformat": 4,
 "nbformat_minor": 5
}
