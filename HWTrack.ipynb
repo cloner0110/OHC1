{
 "cells": [
  {
   "cell_type": "markdown",
   "id": "0",
   "metadata": {},
   "source": [
    "# Prolog"
   ]
  },
  {
   "cell_type": "code",
   "execution_count": null,
   "id": "1",
   "metadata": {},
   "outputs": [],
   "source": [
    "import pandas as pd\n",
    "import seaborn as sb\n",
    "import os\n",
    "import ofwhpcparse as op\n",
    "import datetime\n",
    "import traceback\n",
    "from scipy.optimize import curve_fit\n",
    "from matplotlib.ticker import FormatStrFormatter\n",
    "import matplotlib\n",
    "import numpy as np\n",
    "import pathlib"
   ]
  },
  {
   "cell_type": "markdown",
   "id": "2",
   "metadata": {},
   "source": [
    "## Auxiliary methods"
   ]
  },
  {
   "cell_type": "code",
   "execution_count": null,
   "id": "3",
   "metadata": {},
   "outputs": [],
   "source": [
    "# Secondary x-axis for cells per core\n",
    "def addSecondaryAxisCellsPerCore(ax, cellsNumber):\n",
    "    ticksCellsPerCoreInT = [round(cellsNumber/n/1000, 1) for n in ax.get_xticks()]\n",
    "    tickLabelsStr = [f'{val:.0f}' if val%1 < 1e-1 else f'{val:.1f}' \\\n",
    "            for val in ticksCellsPerCoreInT]\n",
    "    ax2 = ax.twiny()\n",
    "    labelFontSize = 7\n",
    "\n",
    "    ax2.set_xscale(\"log\")\n",
    "    ax2.set_xticks(ax.get_xticks())\n",
    "    ax2.set_xticklabels(tickLabelsStr, fontsize=labelFontSize)\n",
    "    ax2.set_xlim(ax.get_xlim())\n",
    "    ax2.set_xlabel(\"Number of Cells per Core in thousands\")\n",
    "    ax2.tick_params(axis='x', which='both', labelrotation=90)\n",
    "\n",
    "    formatter = matplotlib.ticker.LogFormatter(labelOnlyBase=False, minor_thresholds=(3, 1))\n",
    "    ax2.xaxis.set_minor_formatter(formatter)\n",
    "    ticksCellsPerCoreInT = [round(cellsNumber/n/1000, 1) for n in ax.get_xticks(minor=True)]\n",
    "    tickLabelsStr = [f'{val:.0f}' if val%1 < 1e-1 else f'{val:.1f}' \\\n",
    "             for val in ticksCellsPerCoreInT]\n",
    "    ax2.set_xticks(ax.get_xticks(minor=True), minor=True)\n",
    "    ax2.set_xlim(ax.get_xlim())\n",
    "    ax2.set_xticklabels(tickLabelsStr, minor=True, fontsize=labelFontSize)\n",
    "\n"
   ]
  },
  {
   "cell_type": "markdown",
   "id": "4",
   "metadata": {},
   "source": [
    "## Read Data"
   ]
  },
  {
   "cell_type": "code",
   "execution_count": null,
   "id": "5",
   "metadata": {},
   "outputs": [],
   "source": [
    "# general data\n",
    "size_coarse=65e6\n",
    "size_medium=110e6\n",
    "size_fine=236e6\n",
    "\n",
    "dfs = op.read_submissions()\n",
    "dfs = op.derive_metrics(dfs)\n",
    "\n",
    "# provide filtered data\n",
    "df_hardware = dfs[dfs[\"Track\"] == \"Hardware Track\"]\n",
    "df_hardware = df_hardware.sort_values(\"CPU Family\")\n",
    "df_software = dfs[dfs[\"Track\"] == \"Software Track\"]\n",
    "df_hw_coarse = df_hardware[df_hardware[\"Mesh\"]==\"coarse\"]\n",
    "df_hw_medium = df_hardware[df_hardware[\"Mesh\"]==\"medium\"]\n",
    "df_hw_fine = df_hardware[df_hardware[\"Mesh\"]==\"fine\"]\n",
    "\n",
    "fig_folder = \"figures_hwtrack\"\n",
    "pathlib.Path(fig_folder).mkdir(parents=True, exist_ok=True)\n",
    "doSaveFig = False"
   ]
  },
  {
   "cell_type": "markdown",
   "id": "6",
   "metadata": {},
   "source": [
    "# Overview"
   ]
  },
  {
   "cell_type": "code",
   "execution_count": null,
   "id": "7",
   "metadata": {},
   "outputs": [],
   "source": [
    "ax = sb.scatterplot(df_hardware,x=\"Number of CPU Cores\", y=\"Time-To-Solution [h]\", style=\"Mesh\")\n",
    "ax.set(xscale=\"log\", yscale=\"log\", title=\" Hardware Track\")\n",
    "ax.set(ylabel=\"Time-To-Solution [h]\")\n",
    "sb.move_legend(ax, \"upper left\", bbox_to_anchor=(1, 1))\n",
    "fig = ax.get_figure()\n",
    "op.save_fig(fig, fig_folder, \"submissions_overview\", doSaveFig)"
   ]
  },
  {
   "cell_type": "code",
   "execution_count": null,
   "id": "8",
   "metadata": {},
   "outputs": [],
   "source": [
    "ax = sb.scatterplot(df_hardware.sort_values(\"Contributor ID\"),x=\"Number of CPU Cores\", y=\"Time-To-Solution [h]\", hue=\"Contributor ID\", style=\"Mesh\")\n",
    "ax.set(xscale=\"log\", yscale=\"log\", title=\" Hardware Track\")\n",
    "ax.set(ylabel=\"Time-To-Solution [h]\")\n",
    "sb.move_legend(ax, \"upper left\", bbox_to_anchor=(1, 1))\n",
    "fig = ax.get_figure()\n",
    "op.save_fig(fig, fig_folder, \"wct_cores_mesh\", doSaveFig)"
   ]
  },
  {
   "cell_type": "code",
   "execution_count": null,
   "id": "9",
   "metadata": {},
   "outputs": [],
   "source": [
    "\n",
    "ax = sb.scatterplot(df_hardware.sort_values(\"Contributor ID\"),y=\"Contributor ID\", x=\"Time-To-Solution [h]\", style=\"Mesh\")\n",
    "ax.set(xscale=\"log\", title=\" Hardware Track\")\n",
    "ax.set(xlabel=\"Time-To-Solution [h]\")\n",
    "sb.move_legend(ax, \"upper left\", bbox_to_anchor=(1, 1))\n",
    "fig = ax.get_figure()"
   ]
  },
  {
   "cell_type": "code",
   "execution_count": null,
   "id": "10",
   "metadata": {},
   "outputs": [],
   "source": [
    "\n",
    "ax = sb.scatterplot(df_hardware.sort_values(\"Contributor ID\"),y=\"Contributor ID\", x=\"Energy per Iteration [J]\", style=\"Mesh\")\n",
    "ax.set(xscale=\"log\", title=\" Hardware Track\")\n",
    "sb.move_legend(ax, \"upper left\", bbox_to_anchor=(1, 1))\n",
    "fig = ax.get_figure()"
   ]
  },
  {
   "cell_type": "code",
   "execution_count": null,
   "id": "11",
   "metadata": {},
   "outputs": [],
   "source": [
    "\n",
    "ax = sb.scatterplot(df_hardware.sort_values(\"Contributor ID\"),y=\"Contributor ID\", x=\"Number of CPU Cores\", style=\"Mesh\")\n",
    "ax.set(xscale=\"log\", title=\" Hardware Track\")\n",
    "sb.move_legend(ax, \"upper left\", bbox_to_anchor=(1, 1))\n",
    "fig = ax.get_figure()\n",
    "op.save_fig(fig, fig_folder, \"cores_contributor\", doSaveFig)"
   ]
  },
  {
   "cell_type": "markdown",
   "id": "12",
   "metadata": {},
   "source": [
    "# Performance WCT & Energy"
   ]
  },
  {
   "cell_type": "code",
   "execution_count": null,
   "id": "13",
   "metadata": {},
   "outputs": [],
   "source": [
    "ax = sb.scatterplot(df_hw_coarse.sort_values(\"CPU Family\"),x=\"Energy per Iteration [kJ]\", y=\"Time-To-Solution [h]\", hue=\"CPU Family\", style=\"CPU Generation\")\n",
    "ax.set(xscale=\"log\", yscale=\"log\", title=\"Coarse Mesh\")\n",
    "ax.set(ylabel=\"Time-To-Solution [h]\")\n",
    "ax.set_xscale(\"log\", base=2)\n",
    "ax.set_yscale(\"log\", base=2)\n",
    "ax.xaxis.set_major_formatter(FormatStrFormatter('%.2g'))\n",
    "ax.yaxis.set_major_formatter(FormatStrFormatter('%.2g'))\n",
    "sb.move_legend(ax, \"upper left\", bbox_to_anchor=(1, 1))\n",
    "fig = ax.get_figure()"
   ]
  },
  {
   "cell_type": "code",
   "execution_count": null,
   "id": "14",
   "metadata": {},
   "outputs": [],
   "source": [
    "df_hardware[\"Measured-To-TDP-Energy Ratio\"] = df_hardware[\"Run Consumed Energy [kWh]\"] / df_hardware[\"Energy-To-Solution [kWh]\"]\n",
    "df = df_hardware\n",
    "ax = sb.scatterplot(df.sort_values(\"CPU Family\"),y=\"Measured-To-TDP-Energy Ratio\", x=\"Number of CPU Cores\", hue=\"CPU Family\", style=\"CPU Generation\")\n",
    "ax.set(ylabel=\"Total Energy: Reported vs. Based on TDP\")\n",
    "sb.move_legend(ax, \"upper left\", bbox_to_anchor=(1, 1))\n",
    "fig = ax.get_figure()\n",
    "op.save_fig(fig, fig_folder, \"Measured-To-TDP-Energy\", doSaveFig)\n"
   ]
  },
  {
   "cell_type": "code",
   "execution_count": null,
   "id": "15",
   "metadata": {},
   "outputs": [],
   "source": [
    "\n",
    "ax = sb.scatterplot(df_hw_coarse.sort_values(\"CPU Family\"),x=\"Energy-To-Solution [kWh]\", y=\"Time-To-Solution [h]\", hue=\"CPU Family\", style=\"CPU Generation\")\n",
    "ax.set(title=\"Coarse Mesh\")\n",
    "ax.set_xscale(\"log\", base=2)\n",
    "ax.set_yscale(\"log\", base=2)\n",
    "ax.yaxis.set_major_formatter(FormatStrFormatter('%.2g'))\n",
    "ax.xaxis.set_major_formatter(FormatStrFormatter('%.2g'))\n",
    "sb.move_legend(ax, \"upper left\", bbox_to_anchor=(1, 1))\n",
    "fig = ax.get_figure()\n",
    "op.save_fig(fig, fig_folder, \"TTS_ETS_coarse\", doSaveFig)"
   ]
  },
  {
   "cell_type": "code",
   "execution_count": null,
   "id": "16",
   "metadata": {},
   "outputs": [],
   "source": [
    "\n",
    "ax = sb.scatterplot(df_hw_medium.sort_values(\"CPU Family\"),x=\"Energy-To-Solution [kWh]\", y=\"Time-To-Solution [h]\", hue=\"CPU Family\", style=\"CPU Generation\")\n",
    "ax.set(title=\"Medium Mesh\", xlim=[3.8,34])\n",
    "ax.set_xscale(\"log\", base=2)\n",
    "ax.set_yscale(\"log\", base=2)\n",
    "ax.xaxis.set_major_formatter(matplotlib.ticker.ScalarFormatter())\n",
    "ax.yaxis.set_major_formatter(matplotlib.ticker.ScalarFormatter())\n",
    "sb.move_legend(ax, \"upper left\", bbox_to_anchor=(1, 1))\n",
    "fig = ax.get_figure()\n",
    "op.save_fig(fig, fig_folder, \"TTS_ETS_medium\", doSaveFig)"
   ]
  },
  {
   "cell_type": "code",
   "execution_count": null,
   "id": "17",
   "metadata": {},
   "outputs": [],
   "source": [
    "\n",
    "ax = sb.scatterplot(df_hw_fine.sort_values(\"CPU Family\"),x=\"Energy-To-Solution [kWh]\", y=\"Time-To-Solution [h]\", hue=\"CPU Family\", style=\"CPU Generation\")\n",
    "ax.set(title=\"Fine Mesh\")\n",
    "ax.set_xscale(\"log\", base=2)\n",
    "ax.set_yscale(\"log\", base=2)\n",
    "ax.xaxis.set_major_formatter(matplotlib.ticker.ScalarFormatter())\n",
    "ax.yaxis.set_major_formatter(matplotlib.ticker.ScalarFormatter())\n",
    "sb.move_legend(ax, \"upper left\", bbox_to_anchor=(1, 1))\n",
    "fig = ax.get_figure()\n",
    "op.save_fig(fig, fig_folder, \"TTS_ETS_fine\", doSaveFig)"
   ]
  },
  {
   "cell_type": "code",
   "execution_count": null,
   "id": "18",
   "metadata": {},
   "outputs": [],
   "source": [
    "g = sb.FacetGrid(df_hardware.sort_values(\"CPU Family\"), col=\"Mesh\", hue=\"CPU Family\", aspect=1.0, sharey=True, subplot_kws={\"yscale\":\"log\", \"xscale\":\"log\" }, col_order=[\"coarse\",\"medium\",\"fine\"], legend_out=True)\n",
    "g.map_dataframe(sb.scatterplot, y=\"Time-To-Solution [h]\", x=\"Energy-To-Solution [kWh]\")\n",
    "\n",
    "#ax = sb.scatterplot(df_hardware,x=\"Number of CPU Cores\", y=\"Run Wall-Clock Time [s]\", hue=\"CPU Model\", style=\"Mesh\")\n",
    "#ax.set(xscale=\"log\", yscale=\"log\", title=\" Hardware Track\")\n",
    "g.add_legend()\n",
    "# sb.move_legend(ax, \"upper left\", bbox_to_anchor=(1, 1))\n",
    "for ax in g.axes.flat:\n",
    "    ax.set_xscale(\"log\", base=2)\n",
    "    ax.xaxis.set_major_formatter(FormatStrFormatter('%.4g'))\n",
    "    ax.set_yscale(\"log\", base=2)\n",
    "    ax.yaxis.set_major_formatter(FormatStrFormatter('%.4g'))\n",
    "fig = ax.get_figure()\n",
    "op.save_fig(fig, fig_folder, \"TTS_ETS_facetGrid\", doSaveFig)"
   ]
  },
  {
   "cell_type": "markdown",
   "id": "19",
   "metadata": {},
   "source": [
    "# Strong Scaling"
   ]
  },
  {
   "cell_type": "code",
   "execution_count": null,
   "id": "20",
   "metadata": {},
   "outputs": [],
   "source": [
    "ax = sb.scatterplot(df_hw_coarse.sort_values(\"CPU Family\"),x=\"Number of CPU Cores\", y=\"Time-To-Solution [h]\", hue=\"CPU Family\", style=\"CPU Generation\")\n",
    "ax.set(xscale=\"log\", title=\"Coarse Mesh\")\n",
    "ax.set_yscale(\"log\", base=2)\n",
    "ax.yaxis.set_major_formatter(FormatStrFormatter('%.2g'))\n",
    "sb.move_legend(ax, \"upper left\", bbox_to_anchor=(1, 1))\n",
    "addSecondaryAxisCellsPerCore(ax, size_coarse)\n",
    "fig = ax.get_figure()"
   ]
  },
  {
   "cell_type": "code",
   "execution_count": null,
   "id": "21",
   "metadata": {},
   "outputs": [],
   "source": [
    "# Use only CPUs with more than one entry per submodel\n",
    "df_hw_coarse_scaling = df_hw_coarse[df_hw_coarse.groupby(\"CPU Submodel\")[\"CPU Submodel\"].transform(len) > 2]\n",
    "ax = sb.lineplot(df_hw_coarse_scaling.sort_values(\"CPU Family\"), x=\"Number of CPU Cores\", y=\"Time-To-Solution [h]\", hue=\"CPU Family\", style=\"CPU Generation\", marker='s', markersize=5)\n",
    "ax.set(xscale=\"log\", title=\"Coarse Mesh\")\n",
    "ax.set_yscale(\"log\", base=2)\n",
    "ax.yaxis.set_major_formatter(FormatStrFormatter('%.2g'))\n",
    "addSecondaryAxisCellsPerCore(ax, size_coarse)\n",
    "sb.move_legend(ax, \"upper left\", bbox_to_anchor=(1, 1))\n",
    "fig = ax.get_figure()\n",
    "op.save_fig(fig, fig_folder, \"strong_scaling_coarse\", doSaveFig)"
   ]
  },
  {
   "cell_type": "code",
   "execution_count": null,
   "id": "22",
   "metadata": {},
   "outputs": [],
   "source": [
    "# Use only CPUs with more than one entry per submodel\n",
    "df_hw_medium_scaling = df_hw_medium[df_hw_medium.groupby(\"CPU Submodel\")[\"CPU Submodel\"].transform(len) > 2]\n",
    "ax = sb.lineplot(df_hw_medium_scaling.sort_values(\"CPU Family\"), x=\"Number of CPU Cores\", y=\"Time-To-Solution [h]\", hue=\"CPU Family\", style=\"CPU Generation\", marker='s', markersize=5)\n",
    "ax.set(xscale=\"log\", title=\"Medium Mesh\")\n",
    "ax.set_yscale(\"log\", base=2)\n",
    "ax.yaxis.set_major_formatter(FormatStrFormatter('%.2g'))\n",
    "addSecondaryAxisCellsPerCore(ax, size_medium)\n",
    "sb.move_legend(ax, \"upper left\", bbox_to_anchor=(1, 1))\n",
    "fig = ax.get_figure()\n",
    "op.save_fig(fig, fig_folder, \"strong_scaling_medium\", doSaveFig)"
   ]
  },
  {
   "cell_type": "code",
   "execution_count": null,
   "id": "23",
   "metadata": {},
   "outputs": [],
   "source": [
    "# Use only CPUs with more than one entry per submodel\n",
    "df_hw_fine_scaling = df_hw_fine[df_hw_fine.groupby(\"CPU Submodel\")[\"CPU Submodel\"].transform(len) > 2]\n",
    "ax = sb.lineplot(df_hw_fine_scaling.sort_values(\"CPU Family\"), x=\"Number of CPU Cores\", y=\"Time-To-Solution [h]\", hue=\"CPU Family\", style=\"CPU Generation\")\n",
    "ax.set(xscale=\"log\", title=\"Fine Mesh\")\n",
    "ax.set_yscale(\"log\", base=2)\n",
    "ax.yaxis.set_major_formatter(FormatStrFormatter('%.2g'))\n",
    "addSecondaryAxisCellsPerCore(ax, size_fine)\n",
    "sb.move_legend(ax, \"upper left\", bbox_to_anchor=(1, 1))\n",
    "fig = ax.get_figure()\n",
    "op.save_fig(fig, fig_folder, \"strong_scaling_fine\", doSaveFig)"
   ]
  },
  {
   "cell_type": "markdown",
   "id": "24",
   "metadata": {},
   "source": [
    "## Parallel Efficiency"
   ]
  },
  {
   "cell_type": "code",
   "execution_count": null,
   "id": "25",
   "metadata": {},
   "outputs": [],
   "source": [
    "df = df_hw_coarse_scaling\n",
    "df = df.reset_index(drop=True)\n",
    "df = df[df[\"Number of Nodes\"] > 1]\n",
    "df[\"Total Core Time [s]\"] = df[\"Time-To-Solution [h]\"] * df[\"Number of CPU Cores\"]\n",
    "maxT_val = df[\"Total Core Time [s]\"].min()\n",
    "maxT_id = df[\"Total Core Time [s]\"].idxmin()\n",
    "df = df.assign(maxT=maxT_val)\n",
    "df[\"Parallel Efficiency\"] = df[\"maxT\"] / df[\"Time-To-Solution [h]\"] / df[\"Number of CPU Cores\"]\n",
    "ax = sb.lineplot(df.sort_values(\"CPU Model\"), x=\"Number of CPU Cores\", y=\"Parallel Efficiency\", hue=\"CPU Family\", style=\"CPU Generation\")\n",
    "ax.set(xscale=\"log\", title=\"Coarse Mesh\")\n",
    "addSecondaryAxisCellsPerCore(ax, size_coarse)\n",
    "sb.move_legend(ax, \"upper left\", bbox_to_anchor=(1, 1))\n",
    "fig = ax.get_figure()\n",
    "op.save_fig(fig, fig_folder, \"parallel-efficiency_cores_coarse\", doSaveFig)"
   ]
  },
  {
   "cell_type": "code",
   "execution_count": null,
   "id": "26",
   "metadata": {},
   "outputs": [],
   "source": [
    "df = df_hw_medium_scaling\n",
    "df = df.reset_index(drop=True)\n",
    "df = df[df[\"Number of Nodes\"] > 1]\n",
    "df[\"Total Core Time [s]\"] = df[\"Time-To-Solution [h]\"] * df[\"Number of CPU Cores\"]\n",
    "maxT_val = df[\"Total Core Time [s]\"].min()\n",
    "maxT_id = df[\"Total Core Time [s]\"].idxmin()\n",
    "df = df.assign(maxT=maxT_val)\n",
    "df[\"Parallel Efficiency\"] = df[\"maxT\"] / df[\"Time-To-Solution [h]\"] / df[\"Number of CPU Cores\"]\n",
    "ax = sb.lineplot(df.sort_values(\"CPU Family\"), x=\"Number of CPU Cores\", y=\"Parallel Efficiency\", hue=\"CPU Family\", style=\"CPU Generation\")\n",
    "ax.set(xscale=\"log\", title=\"Medium Mesh\")\n",
    "formatter = matplotlib.ticker.LogFormatter(labelOnlyBase=False, minor_thresholds=(3, 1))\n",
    "ax.xaxis.set_minor_formatter(formatter)\n",
    "ax.xaxis.set_major_formatter(formatter)\n",
    "addSecondaryAxisCellsPerCore(ax, size_medium)\n",
    "sb.move_legend(ax, \"upper left\", bbox_to_anchor=(1, 1))\n",
    "fig = ax.get_figure()\n",
    "op.save_fig(fig, fig_folder, \"parallel-efficiency_cores_medium\", doSaveFig)"
   ]
  },
  {
   "cell_type": "code",
   "execution_count": null,
   "id": "27",
   "metadata": {},
   "outputs": [],
   "source": [
    "df = df_hw_fine_scaling\n",
    "df = df.reset_index(drop=True)\n",
    "df[\"Total Core Time [s]\"] = df[\"Time-To-Solution [h]\"] * df[\"Number of CPU Cores\"]\n",
    "maxT_val = df[\"Total Core Time [s]\"].min()\n",
    "maxT_id = df[\"Total Core Time [s]\"].idxmin()\n",
    "df = df.assign(maxT=maxT_val)\n",
    "df[\"Parallel Efficiency\"] = df[\"maxT\"] / df[\"Time-To-Solution [h]\"] / df[\"Number of CPU Cores\"]\n",
    "ax = sb.lineplot(df.sort_values(\"CPU Model\"), x=\"Number of CPU Cores\", y=\"Parallel Efficiency\", hue=\"CPU Family\", style=\"CPU Generation\")\n",
    "ax.set(xscale=\"log\", title=\"Fine Mesh\")\n",
    "addSecondaryAxisCellsPerCore(ax, size_fine)\n",
    "sb.move_legend(ax, \"upper left\", bbox_to_anchor=(1, 1))\n",
    "fig = ax.get_figure()\n",
    "op.save_fig(fig, fig_folder, \"parallel-efficiency_cores_fine\", doSaveFig)"
   ]
  },
  {
   "cell_type": "markdown",
   "id": "28",
   "metadata": {},
   "source": [
    "## Single Node"
   ]
  },
  {
   "cell_type": "code",
   "execution_count": null,
   "id": "29",
   "metadata": {},
   "outputs": [],
   "source": [
    "df = df_hw_coarse\n",
    "df = df[df[\"Number of Nodes\"] == 1]\n",
    "ax = sb.scatterplot(df.sort_values(\"CPU Family\"),x=\"Number of CPU Cores\", y=\"Time-To-Solution [h]\", hue=\"CPU Family\", style=\"CPU Generation\")\n",
    "ax.set(xscale=\"log\", title=\"Coarse Mesh\")\n",
    "ax.set_yscale(\"log\", base=2)\n",
    "ax.xaxis.set_major_formatter(FormatStrFormatter('%.4g'))\n",
    "ax.yaxis.set_major_formatter(FormatStrFormatter('%.2g'))\n",
    "formatter = matplotlib.ticker.LogFormatter(labelOnlyBase=False, minor_thresholds=(2, 1))\n",
    "ax.xaxis.set_minor_formatter(formatter)\n",
    "addSecondaryAxisCellsPerCore(ax, size_coarse)\n",
    "sb.move_legend(ax, \"upper left\", bbox_to_anchor=(1, 1))"
   ]
  },
  {
   "cell_type": "code",
   "execution_count": null,
   "id": "30",
   "metadata": {},
   "outputs": [],
   "source": [
    "df = df_hw_coarse\n",
    "df = df[df[\"Number of Nodes\"] == 1]\n",
    "ax = sb.scatterplot(df.sort_values(\"CPU Family\"),x=\"Energy-To-Solution [kWh]\", y=\"Time-To-Solution [h]\", hue=\"CPU Family\", style=\"CPU Generation\")\n",
    "ax.set(xscale=\"log\", title=\"Coarse Mesh\")\n",
    "ax.set_yscale(\"log\", base=2)\n",
    "ax.yaxis.set_major_formatter(FormatStrFormatter('%.2g'))\n",
    "ax.xaxis.set_major_formatter(FormatStrFormatter('%.4g'))\n",
    "formatter = matplotlib.ticker.LogFormatter(labelOnlyBase=False, minor_thresholds=(2, 1))\n",
    "ax.xaxis.set_minor_formatter(formatter)\n",
    "sb.move_legend(ax, \"upper left\", bbox_to_anchor=(1, 1))"
   ]
  },
  {
   "cell_type": "code",
   "execution_count": null,
   "id": "31",
   "metadata": {},
   "outputs": [],
   "source": [
    "df = df_hw_medium\n",
    "df = df[df[\"Number of Nodes\"] == 1]\n",
    "ax = sb.scatterplot(df.sort_values(\"CPU Family\"),x=\"Energy-To-Solution [kWh]\", y=\"Time-To-Solution [h]\", hue=\"CPU Family\", style=\"CPU Generation\")\n",
    "ax.set(xscale=\"log\", title=\"Medium Mesh\")\n",
    "ax.set_yscale(\"log\", base=2)\n",
    "ax.yaxis.set_major_formatter(FormatStrFormatter('%.2g'))\n",
    "ax.xaxis.set_major_formatter(FormatStrFormatter('%.4g'))\n",
    "formatter = matplotlib.ticker.LogFormatter(labelOnlyBase=False, minor_thresholds=(3, 1))\n",
    "ax.xaxis.set_minor_formatter(formatter)\n",
    "sb.move_legend(ax, \"upper left\", bbox_to_anchor=(1, 1))"
   ]
  },
  {
   "cell_type": "code",
   "execution_count": null,
   "id": "32",
   "metadata": {},
   "outputs": [],
   "source": [
    "df = df_hw_fine\n",
    "df = df[df[\"Number of Nodes\"] == 1]\n",
    "ax = sb.scatterplot(df.sort_values(\"CPU Family\"),x=\"Energy-To-Solution [kWh]\", y=\"Time-To-Solution [h]\", hue=\"CPU Family\", style=\"CPU Generation\")\n",
    "ax.minorticks_on()\n",
    "ax.set(xscale=\"log\", title=\"Fine Mesh\")\n",
    "ax.set_yscale(\"log\", base=2)\n",
    "ax.yaxis.set_major_formatter(FormatStrFormatter('%.2g'))\n",
    "ax.xaxis.set_major_formatter(FormatStrFormatter('%.4g'))\n",
    "formatter = matplotlib.ticker.LogFormatter(labelOnlyBase=False, minor_thresholds=(2, 1))\n",
    "ax.xaxis.set_minor_formatter(formatter)\n",
    "ax.yaxis.set_minor_locator(matplotlib.ticker.LogLocator(numticks=999, subs=\"auto\"))\n",
    "ax.yaxis.set_minor_formatter(formatter)\n",
    "sb.move_legend(ax, \"upper left\", bbox_to_anchor=(1, 1))"
   ]
  },
  {
   "cell_type": "code",
   "execution_count": null,
   "id": "33",
   "metadata": {},
   "outputs": [],
   "source": [
    "df = df_hardware\n",
    "df = df[df[\"Number of Nodes\"] == 1]\n",
    "g = sb.FacetGrid(df.sort_values(\"CPU Family\"), col=\"Mesh\", hue=\"CPU Generation\", aspect=0.75, sharey=True, subplot_kws={\"yscale\":\"log\", \"xscale\":\"log\" }, col_order=[\"coarse\",\"medium\",\"fine\"], legend_out=True)\n",
    "g.map_dataframe(sb.scatterplot, y=\"Time-To-Solution [h]\", x=\"Energy-To-Solution [kWh]\")\n",
    "g.add_legend()\n",
    "for ax in g.axes.flat:\n",
    "    ax.set_xscale(\"log\", base=2)\n",
    "    ax.xaxis.set_major_formatter(FormatStrFormatter('%.4g'))\n",
    "    ax.set_yscale(\"log\", base=2)\n",
    "    ax.yaxis.set_major_formatter(FormatStrFormatter('%.4g'))\n",
    "fig = ax.get_figure()\n",
    "op.save_fig(fig, fig_folder, \"TTS_ETS_facetGrid-singleNode\", doSaveFig)"
   ]
  },
  {
   "cell_type": "markdown",
   "id": "34",
   "metadata": {},
   "source": [
    "# Last-Level Cache"
   ]
  },
  {
   "cell_type": "code",
   "execution_count": null,
   "id": "35",
   "metadata": {},
   "outputs": [],
   "source": [
    "df = df_hardware\n",
    "df = df[df[\"Number of Nodes\"] == 1]\n",
    "g = sb.FacetGrid(df.sort_values(\"CPU Family\"), col=\"Mesh\", hue=\"Last-Level Cache\", aspect=0.75, sharey=True, subplot_kws={\"yscale\":\"log\", \"xscale\":\"log\" }, col_order=[\"coarse\",\"medium\",\"fine\"], legend_out=True)\n",
    "g.map_dataframe(sb.scatterplot, y=\"Time-To-Solution [h]\", x=\"Energy-To-Solution [kWh]\")\n",
    "g.add_legend()\n",
    "for ax in g.axes.flat:\n",
    "    ax.set_xscale(\"log\", base=2)\n",
    "    ax.xaxis.set_major_formatter(FormatStrFormatter('%.4g'))\n",
    "    ax.set_yscale(\"log\", base=2)\n",
    "    ax.yaxis.set_major_formatter(FormatStrFormatter('%.4g'))\n",
    "fig = ax.get_figure()\n",
    "op.save_fig(fig, fig_folder, \"TTS_ETS_facetGrid-singleNode-Last-Level Cache\", doSaveFig)"
   ]
  },
  {
   "cell_type": "code",
   "execution_count": null,
   "id": "36",
   "metadata": {},
   "outputs": [],
   "source": [
    "df = df_hw_coarse\n",
    "df = df[df[\"Number of Nodes\"] == 1]\n",
    "ax = sb.scatterplot(df.sort_values(\"CPU Family\"),x=\"Energy-To-Solution [kWh]\", y=\"Time-To-Solution [h]\", hue=\"CPU Family\", style=\"Last-Level Cache\")\n",
    "ax.set(xscale=\"log\", title=\"Coarse Mesh\")\n",
    "ax.set_yscale(\"log\", base=2)\n",
    "ax.yaxis.set_major_formatter(FormatStrFormatter('%.2g'))\n",
    "ax.xaxis.set_major_formatter(FormatStrFormatter('%.4g'))\n",
    "formatter = matplotlib.ticker.LogFormatter(labelOnlyBase=False, minor_thresholds=(2, 1))\n",
    "ax.xaxis.set_minor_formatter(formatter)\n",
    "sb.move_legend(ax, \"upper left\", bbox_to_anchor=(1, 1))\n",
    "fig = ax.get_figure()\n",
    "op.save_fig(fig, fig_folder, \"Last-Level Cache-singleNode-coarse\", doSaveFig)"
   ]
  },
  {
   "cell_type": "code",
   "execution_count": null,
   "id": "37",
   "metadata": {},
   "outputs": [],
   "source": [
    "df = df_hw_medium\n",
    "df = df[df[\"Number of Nodes\"] == 1]\n",
    "ax = sb.scatterplot(df.sort_values(\"CPU Family\"),x=\"Energy-To-Solution [kWh]\", y=\"Time-To-Solution [h]\", hue=\"CPU Family\", style=\"Last-Level Cache\")\n",
    "ax.set(xscale=\"log\", title=\"Medium Mesh\")\n",
    "ax.set_yscale(\"log\", base=2)\n",
    "ax.yaxis.set_major_formatter(FormatStrFormatter('%.2g'))\n",
    "ax.xaxis.set_major_formatter(FormatStrFormatter('%.4g'))\n",
    "formatter = matplotlib.ticker.LogFormatter(labelOnlyBase=False, minor_thresholds=(3, 1))\n",
    "ax.xaxis.set_minor_formatter(formatter)\n",
    "sb.move_legend(ax, \"upper left\", bbox_to_anchor=(1, 1))\n",
    "fig = ax.get_figure()\n",
    "op.save_fig(fig, fig_folder, \"Last-Level Cache-singleNode-medium\", doSaveFig)\n"
   ]
  },
  {
   "cell_type": "code",
   "execution_count": null,
   "id": "38",
   "metadata": {},
   "outputs": [],
   "source": [
    "df = df_hw_fine\n",
    "df = df[df[\"Number of Nodes\"] == 1]\n",
    "ax = sb.scatterplot(df.sort_values(\"CPU Family\"),x=\"Energy-To-Solution [kWh]\", y=\"Time-To-Solution [h]\", hue=\"CPU Family\", style=\"Last-Level Cache\")\n",
    "ax.minorticks_on()\n",
    "ax.set(xscale=\"log\", title=\"Fine Mesh\")\n",
    "ax.set_yscale(\"log\", base=2)\n",
    "ax.yaxis.set_major_formatter(FormatStrFormatter('%.2g'))\n",
    "ax.xaxis.set_major_formatter(FormatStrFormatter('%.4g'))\n",
    "formatter = matplotlib.ticker.LogFormatter(labelOnlyBase=False, minor_thresholds=(2, 1))\n",
    "ax.xaxis.set_minor_formatter(formatter)\n",
    "ax.yaxis.set_minor_locator(matplotlib.ticker.LogLocator(numticks=999, subs=\"auto\"))\n",
    "ax.yaxis.set_minor_formatter(formatter)\n",
    "sb.move_legend(ax, \"upper left\", bbox_to_anchor=(1, 1))\n",
    "fig = ax.get_figure()\n",
    "op.save_fig(fig, fig_folder, \"Last-Level Cache-singleNode-fine\", doSaveFig)"
   ]
  }
 ],
 "metadata": {
  "kernelspec": {
   "display_name": "py3.12",
   "language": "python",
   "name": "python3"
  },
  "language_info": {
   "codemirror_mode": {
    "name": "ipython",
    "version": 3
   },
   "file_extension": ".py",
   "mimetype": "text/x-python",
   "name": "python",
   "nbconvert_exporter": "python",
   "pygments_lexer": "ipython3",
   "version": "3.12.3"
  }
 },
 "nbformat": 4,
 "nbformat_minor": 5
}
